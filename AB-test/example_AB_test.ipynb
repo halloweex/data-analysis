{
  "cells": [
    {
      "cell_type": "markdown",
      "metadata": {
        "id": "0rlA0Qwh57LP"
      },
      "source": [
        "# A/B test"
      ]
    },
    {
      "cell_type": "code",
      "execution_count": null,
      "metadata": {
        "collapsed": true,
        "id": "YZkokpO657LQ"
      },
      "outputs": [],
      "source": [
        "import numpy as np\n",
        "from scipy import stats\n",
        "import matplotlib.pyplot as plt\n",
        "import seaborn as sns\n",
        "%matplotlib inline\n",
        "import pandas as pd"
      ]
    },
    {
      "cell_type": "markdown",
      "metadata": {
        "id": "xepR1MEC57LR"
      },
      "source": [
        "Data: https://www.kaggle.com/zhangluyuan/ab-testing#ab_data.csv\n",
        "\n",
        "Estimate how much the conversion of the new landing page has increased compared to the old one.\n",
        "\n",
        "**Metric** - traffic conversion (whether the user moved from the landing page to the target resource)."
      ]
    },
    {
      "cell_type": "code",
      "source": [],
      "metadata": {
        "id": "iKkbkbdc5-3o"
      },
      "execution_count": null,
      "outputs": []
    },
    {
      "cell_type": "code",
      "execution_count": null,
      "metadata": {
        "id": "2qP808_I57LS"
      },
      "outputs": [],
      "source": [
        "df = pd.read_csv('ab_data/ab_data.csv')"
      ]
    },
    {
      "cell_type": "code",
      "execution_count": null,
      "metadata": {
        "id": "T2Jwu7T257LS",
        "outputId": "a7042823-ecab-4d27-af6e-3e52024ab505"
      },
      "outputs": [
        {
          "data": {
            "text/html": [
              "<div>\n",
              "<style scoped>\n",
              "    .dataframe tbody tr th:only-of-type {\n",
              "        vertical-align: middle;\n",
              "    }\n",
              "\n",
              "    .dataframe tbody tr th {\n",
              "        vertical-align: top;\n",
              "    }\n",
              "\n",
              "    .dataframe thead th {\n",
              "        text-align: right;\n",
              "    }\n",
              "</style>\n",
              "<table border=\"1\" class=\"dataframe\">\n",
              "  <thead>\n",
              "    <tr style=\"text-align: right;\">\n",
              "      <th></th>\n",
              "      <th>timestamp</th>\n",
              "      <th>group</th>\n",
              "      <th>landing_page</th>\n",
              "      <th>converted</th>\n",
              "    </tr>\n",
              "    <tr>\n",
              "      <th>user_id</th>\n",
              "      <th></th>\n",
              "      <th></th>\n",
              "      <th></th>\n",
              "      <th></th>\n",
              "    </tr>\n",
              "  </thead>\n",
              "  <tbody>\n",
              "    <tr>\n",
              "      <th>729669</th>\n",
              "      <td>2</td>\n",
              "      <td>2</td>\n",
              "      <td>2</td>\n",
              "      <td>2</td>\n",
              "    </tr>\n",
              "    <tr>\n",
              "      <th>825266</th>\n",
              "      <td>2</td>\n",
              "      <td>2</td>\n",
              "      <td>2</td>\n",
              "      <td>2</td>\n",
              "    </tr>\n",
              "    <tr>\n",
              "      <th>663033</th>\n",
              "      <td>2</td>\n",
              "      <td>2</td>\n",
              "      <td>2</td>\n",
              "      <td>2</td>\n",
              "    </tr>\n",
              "    <tr>\n",
              "      <th>674959</th>\n",
              "      <td>2</td>\n",
              "      <td>2</td>\n",
              "      <td>2</td>\n",
              "      <td>2</td>\n",
              "    </tr>\n",
              "    <tr>\n",
              "      <th>875210</th>\n",
              "      <td>2</td>\n",
              "      <td>2</td>\n",
              "      <td>2</td>\n",
              "      <td>2</td>\n",
              "    </tr>\n",
              "  </tbody>\n",
              "</table>\n",
              "</div>"
            ],
            "text/plain": [
              "         timestamp  group  landing_page  converted\n",
              "user_id                                           \n",
              "729669           2      2             2          2\n",
              "825266           2      2             2          2\n",
              "663033           2      2             2          2\n",
              "674959           2      2             2          2\n",
              "875210           2      2             2          2"
            ]
          },
          "execution_count": 12,
          "metadata": {},
          "output_type": "execute_result"
        }
      ],
      "source": [
        "df.groupby('user_id').count().sort_values(by='landing_page',\n",
        "                                         ascending=False).head()"
      ]
    },
    {
      "cell_type": "code",
      "execution_count": null,
      "metadata": {
        "id": "9j3VRwRx57LS",
        "outputId": "ffe22bd9-fbca-4f8a-ac14-6eae4b3449ee"
      },
      "outputs": [
        {
          "data": {
            "text/html": [
              "<div>\n",
              "<style scoped>\n",
              "    .dataframe tbody tr th:only-of-type {\n",
              "        vertical-align: middle;\n",
              "    }\n",
              "\n",
              "    .dataframe tbody tr th {\n",
              "        vertical-align: top;\n",
              "    }\n",
              "\n",
              "    .dataframe thead th {\n",
              "        text-align: right;\n",
              "    }\n",
              "</style>\n",
              "<table border=\"1\" class=\"dataframe\">\n",
              "  <thead>\n",
              "    <tr style=\"text-align: right;\">\n",
              "      <th></th>\n",
              "      <th>user_id</th>\n",
              "      <th>timestamp</th>\n",
              "      <th>group</th>\n",
              "      <th>landing_page</th>\n",
              "      <th>converted</th>\n",
              "    </tr>\n",
              "  </thead>\n",
              "  <tbody>\n",
              "    <tr>\n",
              "      <th>0</th>\n",
              "      <td>851104</td>\n",
              "      <td>2017-01-21 22:11:48.556739</td>\n",
              "      <td>control</td>\n",
              "      <td>old_page</td>\n",
              "      <td>0</td>\n",
              "    </tr>\n",
              "    <tr>\n",
              "      <th>1</th>\n",
              "      <td>804228</td>\n",
              "      <td>2017-01-12 08:01:45.159739</td>\n",
              "      <td>control</td>\n",
              "      <td>old_page</td>\n",
              "      <td>0</td>\n",
              "    </tr>\n",
              "    <tr>\n",
              "      <th>2</th>\n",
              "      <td>661590</td>\n",
              "      <td>2017-01-11 16:55:06.154213</td>\n",
              "      <td>treatment</td>\n",
              "      <td>new_page</td>\n",
              "      <td>0</td>\n",
              "    </tr>\n",
              "    <tr>\n",
              "      <th>3</th>\n",
              "      <td>853541</td>\n",
              "      <td>2017-01-08 18:28:03.143765</td>\n",
              "      <td>treatment</td>\n",
              "      <td>new_page</td>\n",
              "      <td>0</td>\n",
              "    </tr>\n",
              "    <tr>\n",
              "      <th>4</th>\n",
              "      <td>864975</td>\n",
              "      <td>2017-01-21 01:52:26.210827</td>\n",
              "      <td>control</td>\n",
              "      <td>old_page</td>\n",
              "      <td>1</td>\n",
              "    </tr>\n",
              "  </tbody>\n",
              "</table>\n",
              "</div>"
            ],
            "text/plain": [
              "   user_id                   timestamp      group landing_page  converted\n",
              "0   851104  2017-01-21 22:11:48.556739    control     old_page          0\n",
              "1   804228  2017-01-12 08:01:45.159739    control     old_page          0\n",
              "2   661590  2017-01-11 16:55:06.154213  treatment     new_page          0\n",
              "3   853541  2017-01-08 18:28:03.143765  treatment     new_page          0\n",
              "4   864975  2017-01-21 01:52:26.210827    control     old_page          1"
            ]
          },
          "execution_count": 16,
          "metadata": {},
          "output_type": "execute_result"
        }
      ],
      "source": [
        "df.head()"
      ]
    },
    {
      "cell_type": "code",
      "execution_count": null,
      "metadata": {
        "id": "drKYjg9257LT",
        "outputId": "dd4bbf3c-36e5-4ab5-d07f-b870374996ed"
      },
      "outputs": [
        {
          "data": {
            "text/plain": [
              "old_page    145274\n",
              "new_page      1928\n",
              "Name: landing_page, dtype: int64"
            ]
          },
          "execution_count": 15,
          "metadata": {},
          "output_type": "execute_result"
        }
      ],
      "source": [
        "df[df['group']=='control']['landing_page'].value_counts()"
      ]
    },
    {
      "cell_type": "code",
      "execution_count": null,
      "metadata": {
        "id": "x-1fbzK-57LT",
        "outputId": "ad0c998c-f750-4b86-8d2c-574dcaf6003d"
      },
      "outputs": [
        {
          "data": {
            "text/plain": [
              "{1, 2, 3}"
            ]
          },
          "execution_count": 21,
          "metadata": {},
          "output_type": "execute_result"
        }
      ],
      "source": [
        "set([1, 1, 1, 2, 2, 3])"
      ]
    },
    {
      "cell_type": "code",
      "execution_count": null,
      "metadata": {
        "id": "6ofIK-2c57LT"
      },
      "outputs": [],
      "source": [
        "inter_users = set(df[df['landing_page']=='old_page']['user_id']) & set(df[df['landing_page']=='new_page']['user_id'])\n",
        "\n",
        "df_flt = df[~df['user_id'].isin(inter_users)]"
      ]
    },
    {
      "cell_type": "code",
      "execution_count": null,
      "metadata": {
        "id": "8YDiQcmX57LT",
        "outputId": "01d49ec0-cbc5-40a2-c3dc-f8b0b2546f8b"
      },
      "outputs": [
        {
          "data": {
            "text/plain": [
              "(290482, 5)"
            ]
          },
          "execution_count": 24,
          "metadata": {},
          "output_type": "execute_result"
        }
      ],
      "source": [
        "df_flt.shape"
      ]
    },
    {
      "cell_type": "code",
      "execution_count": null,
      "metadata": {
        "id": "HzI96zQr57LT"
      },
      "outputs": [],
      "source": [
        "df_cont = df_flt[df_flt['group'] == 'control']\n",
        "df_exp = df_flt[df_flt['group'] == 'treatment']"
      ]
    },
    {
      "cell_type": "code",
      "execution_count": null,
      "metadata": {
        "id": "zpTBYJwN57LU",
        "outputId": "0590fb6c-4637-4575-d420-595ba1dc02b6"
      },
      "outputs": [
        {
          "name": "stderr",
          "output_type": "stream",
          "text": [
            "C:\\ProgramData\\Anaconda3\\lib\\site-packages\\matplotlib\\axes\\_axes.py:6462: UserWarning: The 'normed' kwarg is deprecated, and has been replaced by the 'density' kwarg.\n",
            "  warnings.warn(\"The 'normed' kwarg is deprecated, and has been \"\n"
          ]
        },
        {
          "data": {
            "image/png": "[encoded data removed]",
            "text/plain": [
              "<Figure size 432x288 with 1 Axes>"
            ]
          },
          "metadata": {},
          "output_type": "display_data"
        },
        {
          "name": "stderr",
          "output_type": "stream",
          "text": [
            "C:\\ProgramData\\Anaconda3\\lib\\site-packages\\matplotlib\\axes\\_axes.py:6462: UserWarning: The 'normed' kwarg is deprecated, and has been replaced by the 'density' kwarg.\n",
            "  warnings.warn(\"The 'normed' kwarg is deprecated, and has been \"\n"
          ]
        },
        {
          "data": {
            "image/png": "[encoded data removed]",
            "text/plain": [
              "<Figure size 432x288 with 1 Axes>"
            ]
          },
          "metadata": {},
          "output_type": "display_data"
        }
      ],
      "source": [
        "sns.distplot(df_cont['converted'], kde=False)\n",
        "plt.show()\n",
        "sns.distplot(df_exp['converted'], kde=False)\n",
        "plt.show()"
      ]
    },
    {
      "cell_type": "code",
      "execution_count": null,
      "metadata": {
        "collapsed": true,
        "id": "aHB13lyj57LU"
      },
      "outputs": [],
      "source": [
        "def get_cl_samp(data, size=100, iters=1000):\n",
        "    res = []\n",
        "    for i in range(iters):\n",
        "        samp = np.random.choice(data, size=size)\n",
        "        res.append(np.mean(samp))\n",
        "    return res"
      ]
    },
    {
      "cell_type": "code",
      "execution_count": null,
      "metadata": {
        "collapsed": true,
        "id": "lAfZ1wkB57LU"
      },
      "outputs": [],
      "source": [
        "norm_cont = get_cl_samp(df_cont['converted'], size=15000, iters=500)\n",
        "norm_exp = get_cl_samp(df_exp['converted'], size=15000, iters=500)"
      ]
    },
    {
      "cell_type": "code",
      "execution_count": null,
      "metadata": {
        "scrolled": false,
        "id": "4eOXW3X557LU",
        "outputId": "82c30bc5-b70a-4de1-a900-80321ca47533"
      },
      "outputs": [
        {
          "name": "stderr",
          "output_type": "stream",
          "text": [
            "C:\\ProgramData\\Anaconda3\\lib\\site-packages\\matplotlib\\axes\\_axes.py:6462: UserWarning: The 'normed' kwarg is deprecated, and has been replaced by the 'density' kwarg.\n",
            "  warnings.warn(\"The 'normed' kwarg is deprecated, and has been \"\n",
            "C:\\ProgramData\\Anaconda3\\lib\\site-packages\\matplotlib\\axes\\_axes.py:6462: UserWarning: The 'normed' kwarg is deprecated, and has been replaced by the 'density' kwarg.\n",
            "  warnings.warn(\"The 'normed' kwarg is deprecated, and has been \"\n"
          ]
        },
        {
          "data": {
            "image/png": "[encoded data removed]",
            "text/plain": [
              "<Figure size 432x288 with 1 Axes>"
            ]
          },
          "metadata": {},
          "output_type": "display_data"
        }
      ],
      "source": [
        "sns.distplot(norm_cont, kde=False)\n",
        "sns.distplot(norm_exp, kde=False)\n",
        "plt.show()"
      ]
    },
    {
      "cell_type": "code",
      "execution_count": null,
      "metadata": {
        "id": "-ztjN73957LU",
        "outputId": "d73b08ce-6f97-438f-d7eb-88389c226bc2"
      },
      "outputs": [
        {
          "name": "stdout",
          "output_type": "stream",
          "text": [
            "0.12017093333333334 0.11849599999999999\n"
          ]
        }
      ],
      "source": [
        "print(np.mean(norm_cont), np.mean(norm_exp))"
      ]
    },
    {
      "cell_type": "code",
      "execution_count": null,
      "metadata": {
        "id": "xfRrSdWO57LU",
        "outputId": "b7c57d18-16a7-4e5c-e08b-cef8bf68af1e"
      },
      "outputs": [
        {
          "data": {
            "text/plain": [
              "0.0"
            ]
          },
          "execution_count": 45,
          "metadata": {},
          "output_type": "execute_result"
        }
      ],
      "source": [
        "# alpha = 0.001\n",
        "\n",
        "round(stats.ttest_ind(norm_exp, norm_cont)[1], 7)"
      ]
    },
    {
      "cell_type": "code",
      "execution_count": null,
      "metadata": {
        "collapsed": true,
        "id": "tv-WkBsD57LV"
      },
      "outputs": [],
      "source": []
    },
    {
      "cell_type": "code",
      "execution_count": null,
      "metadata": {
        "collapsed": true,
        "id": "lK0uGbig57LV"
      },
      "outputs": [],
      "source": []
    },
    {
      "cell_type": "markdown",
      "metadata": {
        "id": "uqby-Nda57LV"
      },
      "source": [
        "# Derivatives"
      ]
    },
    {
      "cell_type": "markdown",
      "metadata": {
        "id": "7fe8gEcg57LV"
      },
      "source": [
        "Let's explain on the charts:"
      ]
    },
    {
      "cell_type": "code",
      "execution_count": null,
      "metadata": {
        "id": "DT-YxqUN57LV",
        "outputId": "c6afb56d-f6f5-43bc-b0ec-ba3b3e75724b"
      },
      "outputs": [
        {
          "data": {
            "image/png": "[encoded data removed]",
            "text/plain": [
              "<Figure size 432x288 with 1 Axes>"
            ]
          },
          "metadata": {},
          "output_type": "display_data"
        }
      ],
      "source": [
        "x = list(range(-10, 11))\n",
        "plt.plot(\n",
        "    x,\n",
        "    list(map(lambda x: x**2 + 2*x - 13, x))\n",
        ")\n",
        "plt.show()"
      ]
    },
    {
      "cell_type": "markdown",
      "metadata": {
        "id": "m-b3OqaI57LV"
      },
      "source": [
        "### Polynomial derivative\n",
        "\n",
        "$a*x^{2} + b*x + c$\n",
        "\n",
        "Equals\n",
        "\n",
        "$2*a*x + b$"
      ]
    },
    {
      "cell_type": "markdown",
      "metadata": {
        "id": "FmKVPMms57LV"
      },
      "source": [
        "### Graph of the derivative function"
      ]
    },
    {
      "cell_type": "code",
      "execution_count": null,
      "metadata": {
        "id": "hod2NhZh57LV",
        "outputId": "0fdaf0a1-9cfa-45cd-e984-a37c9087fe1c"
      },
      "outputs": [
        {
          "data": {
            "image/png": "[encoded data removed]",
            "text/plain": [
              "<Figure size 432x288 with 1 Axes>"
            ]
          },
          "metadata": {},
          "output_type": "display_data"
        }
      ],
      "source": [
        "plt.plot(list(range(-10, 11)), list(map(lambda x: 2*x + 2, range(-10, 11))))\n",
        "plt.show()"
      ]
    },
    {
      "cell_type": "markdown",
      "metadata": {
        "id": "8h2-SLs557LW"
      },
      "source": [
        "### Why is this needed?\n",
        "\n",
        "2 main purposes:\n",
        "\n",
        "1. We can easily find a local minimum, maximum. Required if we want to find the optimal value of the function.\n",
        "2. At every moment we understand what trend we have: the function is going down or, on the contrary, is increasing.\n",
        "\n",
        "Example:\n",
        "\n",
        "$y = -3x^2 + 2x + 1$\n",
        "\n",
        "We want to understand for which $x$ the value of $y$ is maximum.\n",
        "\n",
        "We find the derivative of the function.\n",
        "\n",
        "$y' = -6x + 2$\n",
        "\n",
        "Equate $y'$ to 0. We get the equation:\n",
        "\n",
        "$-6x + 2 = 0$\n",
        "\n",
        "The root of this equation is: $1/3$\n",
        "\n",
        "**Total**: when the argument value is 1/3, the function takes the maximum value. Let's show it on the chart."
      ]
    },
    {
      "cell_type": "code",
      "execution_count": null,
      "metadata": {
        "id": "44khTPQ857LW",
        "outputId": "7444acab-98fa-4423-994b-3ac4ab701ed1"
      },
      "outputs": [
        {
          "data": {
            "image/png": "[encoded data removed]",
            "text/plain": [
              "<Figure size 432x288 with 1 Axes>"
            ]
          },
          "metadata": {},
          "output_type": "display_data"
        }
      ],
      "source": [
        "plt.plot(list(np.arange(-3, 3, 0.2)),\n",
        "         list(map(lambda x: -3*x**2 + 2*x + 1,\n",
        "                  np.arange(-3, 3, 0.2))))\n",
        "plt.show()"
      ]
    },
    {
      "cell_type": "markdown",
      "metadata": {
        "id": "Z82V6vLW57LW"
      },
      "source": [
        "### Problem\n",
        "\n",
        "Setting the derivative to 0 can help you find the local minimum-maximum, but not the global one!\n",
        "\n",
        "In optimization problems, it is often required to find exactly the global minimum maximum, or get as close to it as possible."
      ]
    },
    {
      "cell_type": "markdown",
      "metadata": {
        "collapsed": true,
        "id": "_ROCfMIL57LW"
      },
      "source": [
        "# Likelihood function"
      ]
    },
    {
      "cell_type": "markdown",
      "metadata": {
        "id": "Rm8U84XY57LW"
      },
      "source": [
        "The likelihood function is a function of the form $W(\\alpha) = \\sum\\log p(y_i/x_i,\\alpha)$. The maximum likelihood method consists in choosing the one from the set of models that maximizes the value of the likelihood function, i.e. the value of the parameter $\\alpha^* = argmax_\\alpha W(\\alpha)$ is chosen.\n",
        "\n",
        "**Maximum likelihood method** is a method of finding a model that best describes the training sample in some sense, obtained with some unknown distribution.\n",
        "\n",
        "### Example\n",
        "\n",
        "The number of dead cavalrymen in the report\n",
        "\n",
        "number of dead number of reports (reports)\n",
        "0                109  \n",
        "1                65  \n",
        "2                22  \n",
        "3                3  \n",
        "4                1  \n",
        "5                0  \n",
        "\n",
        "Modeling the number of deaths using **Poisson distribution**\n",
        "\n",
        "About distribution separately\n",
        "\n",
        "The probability that a random variable from the Poisson distribution will take a value equal to k is equal to:\n",
        "\n",
        "$p(k)\\equiv \\mathbb {P} (Y=k)={\\frac {\\lambda ^{k}}{k!}}\\,e^{-\\lambda }$\n",
        "\n",
        "But how to choose the unknown parameter $\\lambda$ ?\n",
        "\n",
        "The probability of obtaining exactly such a sample as above is equal to the product of the probability functions for each of the values of the random variable - this is the function of ** sampling likelihood **"
      ]
    },
    {
      "cell_type": "code",
      "execution_count": null,
      "metadata": {
        "collapsed": true,
        "id": "IGgPFApA57LW"
      },
      "outputs": [],
      "source": [
        "X = [0, 1, 2, 3, 4, 5]\n",
        "Y = [109, 65, 22, 3, 1]"
      ]
    },
    {
      "cell_type": "markdown",
      "metadata": {
        "id": "JSnjTEe857LW"
      },
      "source": [
        "To do this, we need to find the derivative of the likelihood function\n",
        "\n",
        "It is equal to:\n",
        "\n",
        "<img src=\"2019-06-21 13.52.19-eq6jr.png\" />"
      ]
    },
    {
      "cell_type": "code",
      "execution_count": null,
      "metadata": {
        "collapsed": true,
        "id": "Z17ukP6m57LW"
      },
      "outputs": [],
      "source": [
        "Yi = [0 for i in range(109)] + [1 for i in range(65)] + \\\n",
        "[2 for i in range(22)] + [3 for i in range(3)] + [4]"
      ]
    },
    {
      "cell_type": "code",
      "execution_count": null,
      "metadata": {
        "id": "kjCR25U957LW",
        "outputId": "9d09145f-070c-4d25-fb71-9526f0345773"
      },
      "outputs": [
        {
          "data": {
            "text/plain": [
              "0.61"
            ]
          },
          "execution_count": 60,
          "metadata": {},
          "output_type": "execute_result"
        }
      ],
      "source": [
        "sum(Yi) / 200"
      ]
    },
    {
      "cell_type": "code",
      "execution_count": null,
      "metadata": {
        "id": "HDD5t1PZ57LW",
        "outputId": "7b4e69d6-c1e3-4fea-dd30-bdc467b9b839"
      },
      "outputs": [
        {
          "data": {
            "text/plain": [
              "0.0"
            ]
          },
          "execution_count": 52,
          "metadata": {},
          "output_type": "execute_result"
        }
      ],
      "source": [
        "Yi = [109 * 0, 65 * 1, 22 * 2, 3 * 3, 1 * 4]\n",
        "-200 + sum([l / 0.61 for l in lst])"
      ]
    },
    {
      "cell_type": "code",
      "execution_count": null,
      "metadata": {
        "id": "1KQH15rL57LX",
        "outputId": "dc11da5c-5ff2-4f25-d78e-121b34ee702e"
      },
      "outputs": [
        {
          "data": {
            "text/plain": [
              "0.61"
            ]
          },
          "execution_count": 32,
          "metadata": {},
          "output_type": "execute_result"
        }
      ],
      "source": [
        "(109 * 0 + 65 * 1 + 22 * 2 + 3 * 3 + 1 * 4) / 200"
      ]
    },
    {
      "cell_type": "code",
      "execution_count": null,
      "metadata": {
        "id": "L76t3fap57LX",
        "outputId": "4b550313-7b2e-476a-b211-8ccec0fdb0af"
      },
      "outputs": [
        {
          "data": {
            "text/plain": [
              "0.325"
            ]
          },
          "execution_count": 54,
          "metadata": {},
          "output_type": "execute_result"
        }
      ],
      "source": [
        "65 / 200"
      ]
    },
    {
      "cell_type": "code",
      "execution_count": null,
      "metadata": {
        "collapsed": true,
        "id": "NzHTJMaN57LX"
      },
      "outputs": [],
      "source": [
        "import math"
      ]
    },
    {
      "cell_type": "code",
      "execution_count": null,
      "metadata": {
        "id": "sEoBcdyX57LX",
        "outputId": "180b2eb6-e51c-4fcd-dcf9-0b16695f0a27"
      },
      "outputs": [
        {
          "data": {
            "text/plain": [
              "0.10109042919131069"
            ]
          },
          "execution_count": 73,
          "metadata": {},
          "output_type": "execute_result"
        }
      ],
      "source": [
        "0.61**2 / math.factorial(2) * np.e**(-0.61)"
      ]
    },
    {
      "cell_type": "code",
      "execution_count": null,
      "metadata": {
        "id": "s6gfgmUl57LY",
        "outputId": "4b870a53-108c-46b6-e049-6d722d3bd329"
      },
      "outputs": [
        {
          "data": {
            "text/plain": [
              "0.11"
            ]
          },
          "execution_count": 72,
          "metadata": {},
          "output_type": "execute_result"
        }
      ],
      "source": [
        "22/200"
      ]
    },
    {
      "cell_type": "code",
      "execution_count": null,
      "metadata": {
        "id": "IHbpKn8c57LY",
        "outputId": "a437aa17-a4cf-4bf7-da07-a32520da5366"
      },
      "outputs": [
        {
          "data": {
            "image/png": "[encoded data removed]",
            "text/plain": [
              "<Figure size 432x288 with 1 Axes>"
            ]
          },
          "metadata": {},
          "output_type": "display_data"
        }
      ],
      "source": [
        "K = [0, 1, 2, 3, 4, 5]\n",
        "X = [109 / 200, 65 / 200, 22 / 200, 3 / 200, 1 / 200, 0]\n",
        "Y = []\n",
        "\n",
        "for k in K:\n",
        "    Y.append(0.61**k / math.factorial(k) * np.e**(-0.61))\n",
        "\n",
        "plt.plot(K, X, c='blue')\n",
        "plt.plot(K, Y, c='orange')\n",
        "plt.show()"
      ]
    }
  ],
  "metadata": {
    "kernelspec": {
      "display_name": "Python 3 (ipykernel)",
      "language": "python",
      "name": "python3"
    },
    "language_info": {
      "codemirror_mode": {
        "name": "ipython",
        "version": 3
      },
      "file_extension": ".py",
      "mimetype": "text/x-python",
      "name": "python",
      "nbconvert_exporter": "python",
      "pygments_lexer": "ipython3",
      "version": "3.10.9"
    },
    "colab": {
      "provenance": []
    }
  },
  "nbformat": 4,
  "nbformat_minor": 0
}